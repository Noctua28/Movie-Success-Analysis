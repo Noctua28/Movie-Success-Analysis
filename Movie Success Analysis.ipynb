{
 "cells": [
  {
   "cell_type": "code",
   "execution_count": 12,
   "id": "d4b76f0f",
   "metadata": {},
   "outputs": [],
   "source": [
    "# Import Libraries\n",
    "import pandas as pd\n",
    "import numpy as np"
   ]
  },
  {
   "cell_type": "code",
   "execution_count": 13,
   "id": "f93e52f5",
   "metadata": {},
   "outputs": [],
   "source": [
    "# Load the datasets\n",
    "akas_url = \"https://datasets.imdbws.com/title.akas.tsv.gz\"\n",
    "ratings_url = \"https://datasets.imdbws.com/title.ratings.tsv.gz\"\n",
    "basics_url = \"https://datasets.imdbws.com/title.basics.tsv.gz\""
   ]
  },
  {
   "cell_type": "code",
   "execution_count": 14,
   "id": "48afa101",
   "metadata": {},
   "outputs": [],
   "source": [
    "# Load AKAs dataset\n",
    "akas = pd.read_csv(akas_url, sep='\\t', low_memory=False)\n",
    "akas.replace({'\\\\N': np.nan}, inplace=True)\n",
    "\n",
    "# Filter AKAs dataset to include only US movies\n",
    "us_movies_akas = akas[akas['region'] == 'US']"
   ]
  },
  {
   "cell_type": "code",
   "execution_count": 15,
   "id": "509a4edc",
   "metadata": {},
   "outputs": [],
   "source": [
    "# Load Ratings dataset\n",
    "ratings = pd.read_csv(ratings_url, sep='\\t', low_memory=False)\n",
    "ratings.replace({'\\\\N': np.nan}, inplace=True)"
   ]
  },
  {
   "cell_type": "code",
   "execution_count": 16,
   "id": "3dc490af",
   "metadata": {},
   "outputs": [],
   "source": [
    "# Load Basics dataset\n",
    "basics = pd.read_csv(basics_url, sep='\\t', low_memory=False)\n",
    "basics.replace({'\\\\N': np.nan}, inplace=True)\n",
    "\n",
    "# Filter Basics dataset to include only full-length movies released between 2000 and 2021 in the US and exclude documentaries\n",
    "basics = basics[basics['titleType'] == 'movie']\n",
    "basics['startYear'] = basics['startYear'].astype(float)  # Convert startYear column to float\n",
    "basics = basics[basics['startYear'].between(2000, 2021)]\n",
    "basics = basics[~basics['genres'].str.contains('documentary', case=False, na=False)]\n",
    "\n",
    "# Filter Basics dataset based on AKAs dataset to include only US movies\n",
    "basics = basics[basics['tconst'].isin(us_movies_akas['titleId'])]"
   ]
  },
  {
   "cell_type": "code",
   "execution_count": 17,
   "id": "32038aca",
   "metadata": {},
   "outputs": [
    {
     "name": "stdout",
     "output_type": "stream",
     "text": [
      "<class 'pandas.core.frame.DataFrame'>\n",
      "Int64Index: 97482 entries, 34803 to 9985716\n",
      "Data columns (total 9 columns):\n",
      " #   Column          Non-Null Count  Dtype  \n",
      "---  ------          --------------  -----  \n",
      " 0   tconst          97482 non-null  object \n",
      " 1   titleType       97482 non-null  object \n",
      " 2   primaryTitle    97482 non-null  object \n",
      " 3   originalTitle   97482 non-null  object \n",
      " 4   isAdult         97482 non-null  object \n",
      " 5   startYear       97482 non-null  float64\n",
      " 6   endYear         0 non-null      object \n",
      " 7   runtimeMinutes  83340 non-null  object \n",
      " 8   genres          94538 non-null  object \n",
      "dtypes: float64(1), object(8)\n",
      "memory usage: 7.4+ MB\n",
      "None\n",
      "<class 'pandas.core.frame.DataFrame'>\n",
      "Int64Index: 1449468 entries, 5 to 36461217\n",
      "Data columns (total 8 columns):\n",
      " #   Column           Non-Null Count    Dtype \n",
      "---  ------           --------------    ----- \n",
      " 0   titleId          1449468 non-null  object\n",
      " 1   ordering         1449468 non-null  int64 \n",
      " 2   title            1449468 non-null  object\n",
      " 3   region           1449468 non-null  object\n",
      " 4   language         3983 non-null     object\n",
      " 5   types            980973 non-null   object\n",
      " 6   attributes       46929 non-null    object\n",
      " 7   isOriginalTitle  1448126 non-null  object\n",
      "dtypes: int64(1), object(7)\n",
      "memory usage: 99.5+ MB\n",
      "None\n",
      "<class 'pandas.core.frame.DataFrame'>\n",
      "RangeIndex: 1327278 entries, 0 to 1327277\n",
      "Data columns (total 3 columns):\n",
      " #   Column         Non-Null Count    Dtype  \n",
      "---  ------         --------------    -----  \n",
      " 0   tconst         1327278 non-null  object \n",
      " 1   averageRating  1327278 non-null  float64\n",
      " 2   numVotes       1327278 non-null  int64  \n",
      "dtypes: float64(1), int64(1), object(1)\n",
      "memory usage: 30.4+ MB\n",
      "None\n"
     ]
    }
   ],
   "source": [
    "# Check remaining movies and data types in Basics dataset\n",
    "print(basics.info())\n",
    "\n",
    "# Check remaining movies and data types in AKAs dataset\n",
    "print(us_movies_akas.info())\n",
    "\n",
    "# Check remaining movies and data types in Ratings dataset\n",
    "print(ratings.info())"
   ]
  },
  {
   "cell_type": "code",
   "execution_count": 18,
   "id": "9bc03c4c",
   "metadata": {},
   "outputs": [],
   "source": [
    "# Save filtered datasets as compressed CSV files\n",
    "basics.to_csv('Data/basics.csv.gz', compression='gzip', index=False)\n",
    "us_movies_akas.to_csv('Data/akas.csv.gz', compression='gzip', index=False)\n",
    "ratings.to_csv('Data/ratings.csv.gz', compression='gzip', index=False)"
   ]
  }
 ],
 "metadata": {
  "kernelspec": {
   "display_name": "Python 3 (ipykernel)",
   "language": "python",
   "name": "python3"
  },
  "language_info": {
   "codemirror_mode": {
    "name": "ipython",
    "version": 3
   },
   "file_extension": ".py",
   "mimetype": "text/x-python",
   "name": "python",
   "nbconvert_exporter": "python",
   "pygments_lexer": "ipython3",
   "version": "3.9.15"
  },
  "toc": {
   "base_numbering": 1,
   "nav_menu": {},
   "number_sections": true,
   "sideBar": true,
   "skip_h1_title": false,
   "title_cell": "Table of Contents",
   "title_sidebar": "Contents",
   "toc_cell": false,
   "toc_position": {},
   "toc_section_display": true,
   "toc_window_display": false
  }
 },
 "nbformat": 4,
 "nbformat_minor": 5
}
