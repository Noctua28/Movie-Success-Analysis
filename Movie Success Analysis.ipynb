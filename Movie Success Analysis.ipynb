{
 "cells": [
  {
   "cell_type": "code",
   "execution_count": 19,
   "id": "d4b76f0f",
   "metadata": {},
   "outputs": [],
   "source": [
    "# Import Libraries\n",
    "import pandas as pd\n",
    "import numpy as np\n",
    "import requests\n",
    "import json"
   ]
  },
  {
   "cell_type": "code",
   "execution_count": 20,
   "id": "f93e52f5",
   "metadata": {},
   "outputs": [],
   "source": [
    "# Load the datasets\n",
    "akas_url = \"https://datasets.imdbws.com/title.akas.tsv.gz\"\n",
    "ratings_url = \"https://datasets.imdbws.com/title.ratings.tsv.gz\"\n",
    "basics_url = \"https://datasets.imdbws.com/title.basics.tsv.gz\""
   ]
  },
  {
   "cell_type": "code",
   "execution_count": 21,
   "id": "48afa101",
   "metadata": {},
   "outputs": [],
   "source": [
    "# Load AKAs dataset\n",
    "akas = pd.read_csv(akas_url, sep='\\t', low_memory=False)\n",
    "akas.replace({'\\\\N': np.nan}, inplace=True)\n",
    "\n",
    "# Filter AKAs dataset to include only US movies\n",
    "us_movies_akas = akas[akas['region'] == 'US']"
   ]
  },
  {
   "cell_type": "code",
   "execution_count": 22,
   "id": "509a4edc",
   "metadata": {},
   "outputs": [],
   "source": [
    "# Load Ratings dataset\n",
    "ratings = pd.read_csv(ratings_url, sep='\\t', low_memory=False)\n",
    "ratings.replace({'\\\\N': np.nan}, inplace=True)"
   ]
  },
  {
   "cell_type": "code",
   "execution_count": 23,
   "id": "3dc490af",
   "metadata": {},
   "outputs": [],
   "source": [
    "# Load Basics dataset\n",
    "basics = pd.read_csv(basics_url, sep='\\t', low_memory=False)\n",
    "basics.replace({'\\\\N': np.nan}, inplace=True)\n",
    "\n",
    "# Filter Basics dataset to include only full-length movies released between 2000 and 2021 in the US and exclude documentaries\n",
    "basics = basics[basics['titleType'] == 'movie']\n",
    "basics['startYear'] = basics['startYear'].astype(float)  # Convert startYear column to float\n",
    "basics = basics[basics['startYear'].between(2000, 2021)]\n",
    "basics = basics[~basics['genres'].str.contains('documentary', case=False, na=False)]\n",
    "\n",
    "# Filter Basics dataset based on AKAs dataset to include only US movies\n",
    "basics = basics[basics['tconst'].isin(us_movies_akas['titleId'])]"
   ]
  },
  {
   "cell_type": "code",
   "execution_count": 24,
   "id": "32038aca",
   "metadata": {},
   "outputs": [
    {
     "name": "stdout",
     "output_type": "stream",
     "text": [
      "<class 'pandas.core.frame.DataFrame'>\n",
      "Int64Index: 97482 entries, 34803 to 9985716\n",
      "Data columns (total 9 columns):\n",
      " #   Column          Non-Null Count  Dtype  \n",
      "---  ------          --------------  -----  \n",
      " 0   tconst          97482 non-null  object \n",
      " 1   titleType       97482 non-null  object \n",
      " 2   primaryTitle    97482 non-null  object \n",
      " 3   originalTitle   97482 non-null  object \n",
      " 4   isAdult         97482 non-null  object \n",
      " 5   startYear       97482 non-null  float64\n",
      " 6   endYear         0 non-null      object \n",
      " 7   runtimeMinutes  83340 non-null  object \n",
      " 8   genres          94538 non-null  object \n",
      "dtypes: float64(1), object(8)\n",
      "memory usage: 7.4+ MB\n",
      "None\n",
      "<class 'pandas.core.frame.DataFrame'>\n",
      "Int64Index: 1449468 entries, 5 to 36461217\n",
      "Data columns (total 8 columns):\n",
      " #   Column           Non-Null Count    Dtype \n",
      "---  ------           --------------    ----- \n",
      " 0   titleId          1449468 non-null  object\n",
      " 1   ordering         1449468 non-null  int64 \n",
      " 2   title            1449468 non-null  object\n",
      " 3   region           1449468 non-null  object\n",
      " 4   language         3983 non-null     object\n",
      " 5   types            980973 non-null   object\n",
      " 6   attributes       46929 non-null    object\n",
      " 7   isOriginalTitle  1448126 non-null  object\n",
      "dtypes: int64(1), object(7)\n",
      "memory usage: 99.5+ MB\n",
      "None\n",
      "<class 'pandas.core.frame.DataFrame'>\n",
      "RangeIndex: 1327278 entries, 0 to 1327277\n",
      "Data columns (total 3 columns):\n",
      " #   Column         Non-Null Count    Dtype  \n",
      "---  ------         --------------    -----  \n",
      " 0   tconst         1327278 non-null  object \n",
      " 1   averageRating  1327278 non-null  float64\n",
      " 2   numVotes       1327278 non-null  int64  \n",
      "dtypes: float64(1), int64(1), object(1)\n",
      "memory usage: 30.4+ MB\n",
      "None\n"
     ]
    }
   ],
   "source": [
    "# Check remaining movies and data types in Basics dataset\n",
    "print(basics.info())\n",
    "\n",
    "# Check remaining movies and data types in AKAs dataset\n",
    "print(us_movies_akas.info())\n",
    "\n",
    "# Check remaining movies and data types in Ratings dataset\n",
    "print(ratings.info())"
   ]
  },
  {
   "cell_type": "code",
   "execution_count": 25,
   "id": "9bc03c4c",
   "metadata": {},
   "outputs": [],
   "source": [
    "# Save filtered datasets as compressed CSV files\n",
    "basics.to_csv('Data/basics.csv.gz', compression='gzip', index=False)\n",
    "us_movies_akas.to_csv('Data/akas.csv.gz', compression='gzip', index=False)\n",
    "ratings.to_csv('Data/ratings.csv.gz', compression='gzip', index=False)"
   ]
  },
  {
   "cell_type": "code",
   "execution_count": 26,
   "id": "d76b1dd8",
   "metadata": {},
   "outputs": [],
   "source": [
    "# Function to extract movie info from TMDB API\n",
    "def get_movie_info(movie_id, api_key):\n",
    "    url = f\"https://api.themoviedb.org/3/movie/{movie_id}?api_key={api_key}\"\n",
    "    response = requests.get(url)\n",
    "    movie_data = response.json()\n",
    "    return movie_data\n",
    "\n",
    "# Function to append data to a JSON file\n",
    "def append_to_json(data, filename):\n",
    "    with open(filename, 'a') as file:\n",
    "        json.dump(data, file)\n",
    "        file.write('\\n')"
   ]
  },
  {
   "cell_type": "code",
   "execution_count": 27,
   "id": "48370cd0",
   "metadata": {
    "scrolled": true
   },
   "outputs": [
    {
     "name": "stdout",
     "output_type": "stream",
     "text": [
      "The Avengers:\n",
      "{'adult': False, 'backdrop_path': '/9BBTo63ANSmhC4e6r62OJFuK2GL.jpg', 'belongs_to_collection': {'id': 86311, 'name': 'The Avengers Collection', 'poster_path': '/yFSIUVTCvgYrpalUktulvk3Gi5Y.jpg', 'backdrop_path': '/zuW6fOiusv4X9nnW3paHGfXcSll.jpg'}, 'budget': 220000000, 'genres': [{'id': 878, 'name': 'Science Fiction'}, {'id': 28, 'name': 'Action'}, {'id': 12, 'name': 'Adventure'}], 'homepage': 'https://www.marvel.com/movies/the-avengers', 'id': 24428, 'imdb_id': 'tt0848228', 'original_language': 'en', 'original_title': 'The Avengers', 'overview': 'When an unexpected enemy emerges and threatens global safety and security, Nick Fury, director of the international peacekeeping agency known as S.H.I.E.L.D., finds himself in need of a team to pull the world back from the brink of disaster. Spanning the globe, a daring recruitment effort begins!', 'popularity': 155.899, 'poster_path': '/RYMX2wcKCBAr24UyPD7xwmjaTn.jpg', 'production_companies': [{'id': 420, 'logo_path': '/hUzeosd33nzE5MCNsZxCGEKTXaQ.png', 'name': 'Marvel Studios', 'origin_country': 'US'}], 'production_countries': [{'iso_3166_1': 'US', 'name': 'United States of America'}], 'release_date': '2012-04-25', 'revenue': 1518815515, 'runtime': 143, 'spoken_languages': [{'english_name': 'English', 'iso_639_1': 'en', 'name': 'English'}, {'english_name': 'Hindi', 'iso_639_1': 'hi', 'name': 'हिन्दी'}, {'english_name': 'Russian', 'iso_639_1': 'ru', 'name': 'Pусский'}], 'status': 'Released', 'tagline': 'Some assembly required.', 'title': 'The Avengers', 'video': False, 'vote_average': 7.709, 'vote_count': 28811}\n",
      "\n",
      "\n",
      "The Notebook:\n",
      "{'adult': False, 'backdrop_path': '/qom1SZSENdmHFNZBXbtJAU0WTlC.jpg', 'belongs_to_collection': None, 'budget': 29000000, 'genres': [{'id': 10749, 'name': 'Romance'}, {'id': 18, 'name': 'Drama'}], 'homepage': 'http://www.newline.com/properties/notebookthe.html', 'id': 11036, 'imdb_id': 'tt0332280', 'original_language': 'en', 'original_title': 'The Notebook', 'overview': \"An epic love story centered around an older man who reads aloud to a woman with Alzheimer's. From a faded notebook, the old man's words bring to life the story about a couple who is separated by World War II, and is then passionately reunited, seven years later, after they have taken different paths.\", 'popularity': 55.372, 'poster_path': '/rNzQyW4f8B8cQeg7Dgj3n6eT5k9.jpg', 'production_companies': [{'id': 12, 'logo_path': '/5ThIuO93vsk47oexKTSdfKEr7EC.png', 'name': 'New Line Cinema', 'origin_country': 'US'}, {'id': 1565, 'logo_path': None, 'name': 'Avery Pix', 'origin_country': 'US'}, {'id': 2605, 'logo_path': None, 'name': 'Gran Via Productions', 'origin_country': 'US'}], 'production_countries': [{'iso_3166_1': 'US', 'name': 'United States of America'}], 'release_date': '2004-06-25', 'revenue': 115603229, 'runtime': 123, 'spoken_languages': [{'english_name': 'English', 'iso_639_1': 'en', 'name': 'English'}], 'status': 'Released', 'tagline': 'Behind every great love is a great story.', 'title': 'The Notebook', 'video': False, 'vote_average': 7.88, 'vote_count': 10403}\n"
     ]
    }
   ],
   "source": [
    "api_key = \"6ae1796c8924400f82273b37dedcdd66\"\n",
    "\n",
    "avengers_info = get_movie_info(\"tt0848228\", api_key)\n",
    "notebook_info = get_movie_info(\"tt0332280\", api_key)\n",
    "\n",
    "print(\"The Avengers:\")\n",
    "print(avengers_info)\n",
    "print(\"\\n\")\n",
    "print(\"The Notebook:\")\n",
    "print(notebook_info)"
   ]
  },
  {
   "cell_type": "code",
   "execution_count": null,
   "id": "60896576",
   "metadata": {},
   "outputs": [],
   "source": [
    "api_key = \"6ae1796c8924400f82273b37dedcdd66\"\n",
    "\n",
    "avengers_info = get_movie_info(\"tt0848228\", api_key)\n",
    "notebook_info = get_movie_info(\"tt0332280\", api_key)\n",
    "\n",
    "print(\"The Avengers:\")\n",
    "print(avengers_info)\n",
    "print(\"\\n\")\n",
    "print(\"The Notebook:\")\n",
    "print(notebook_info)"
   ]
  },
  {
   "cell_type": "code",
   "execution_count": null,
   "id": "e84b88b7",
   "metadata": {},
   "outputs": [],
   "source": [
    "# Load the filtered basics dataset \n",
    "basics = pd.read_csv('Data/basics.csv.gz', compression='gzip')\n",
    "\n",
    "# Extract financial data for movies starting in 2000 or 2001\n",
    "years = [2000, 2001]\n",
    "\n",
    "for year in years:\n",
    "    # Filter basics dataset for the specific year\n",
    "    movies_year = basics[basics['startYear'] == year]\n",
    "    \n",
    "    # Create an empty list to store movie data\n",
    "    movie_data_list = []\n",
    "    \n",
    "    # Loop through the movies and extract financial data\n",
    "    for index, movie in movies_year.iterrows():\n",
    "        movie_id = movie['tconst']\n",
    "        movie_info = get_movie_info(movie_id, api_key)\n",
    "        movie_data = {\n",
    "            'movie_id': movie_id,\n",
    "            'budget': movie_info.get('budget'),\n",
    "            'revenue': movie_info.get('revenue'),\n",
    "            'certification': movie_info.get('certification'),\n",
    "        }\n",
    "        movie_data_list.append(movie_data)\n",
    "    \n",
    "    # Save the movie data as a JSON file\n",
    "    filename = f\"financial_data_{year}.json\"\n",
    "    with open(filename, 'w') as file:\n",
    "        json.dump(movie_data_list, file)"
   ]
  },
  {
   "cell_type": "markdown",
   "id": "7f03e3bf",
   "metadata": {},
   "source": [
    "# Exploratory Data Analysis"
   ]
  },
  {
   "cell_type": "code",
   "execution_count": null,
   "id": "9608eff3",
   "metadata": {},
   "outputs": [],
   "source": [
    "# Load the financial data for each year and concatenate into one dataframe\n",
    "years = [2000, 2001]  \n",
    "\n",
    "dfs = []\n",
    "for year in years:\n",
    "    filename = f\"financial_data_{year}.json\"\n",
    "    with open(filename, 'r') as file:\n",
    "        data = json.load(file)\n",
    "        df = pd.DataFrame(data)\n",
    "        dfs.append(df)\n",
    "\n",
    "financial_data = pd.concat(dfs, ignore_index=True)\n",
    "\n",
    "# Filter movies with valid financial information (non-zero budget or revenue)\n",
    "valid_financial_data = financial_data[(financial_data['budget'] > 0) | (financial_data['revenue'] > 0)]\n",
    "\n",
    "# Count of movies with valid financial information\n",
    "valid_movies_count = len(valid_financial_data)\n",
    "\n",
    "# Count of movies in each certification category\n",
    "certification_counts = valid_financial_data['certification'].value_counts()\n",
    "\n",
    "# Average revenue per certification category\n",
    "average_revenue = valid_financial_data.groupby('certification')['revenue'].mean()\n",
    "\n",
    "# Average budget per certification category\n",
    "average_budget = valid_financial_data.groupby('certification')['budget'].mean()"
   ]
  },
  {
   "cell_type": "code",
   "execution_count": null,
   "id": "0f646796",
   "metadata": {},
   "outputs": [],
   "source": [
    "# Save the merged TMDB API data as a CSV file\n",
    "financial_data.to_csv('tmdb_results_combined.csv.gz', compression='gzip', index=False)"
   ]
  }
 ],
 "metadata": {
  "kernelspec": {
   "display_name": "Python 3 (ipykernel)",
   "language": "python",
   "name": "python3"
  },
  "language_info": {
   "codemirror_mode": {
    "name": "ipython",
    "version": 3
   },
   "file_extension": ".py",
   "mimetype": "text/x-python",
   "name": "python",
   "nbconvert_exporter": "python",
   "pygments_lexer": "ipython3",
   "version": "3.9.15"
  },
  "toc": {
   "base_numbering": 1,
   "nav_menu": {},
   "number_sections": true,
   "sideBar": true,
   "skip_h1_title": false,
   "title_cell": "Table of Contents",
   "title_sidebar": "Contents",
   "toc_cell": false,
   "toc_position": {},
   "toc_section_display": true,
   "toc_window_display": false
  }
 },
 "nbformat": 4,
 "nbformat_minor": 5
}
