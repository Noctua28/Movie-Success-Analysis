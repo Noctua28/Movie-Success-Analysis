{
 "cells": [
  {
   "cell_type": "markdown",
   "id": "5953db61",
   "metadata": {},
   "source": [
    "# Part 1"
   ]
  },
  {
   "cell_type": "code",
   "execution_count": 40,
   "id": "d4b76f0f",
   "metadata": {},
   "outputs": [],
   "source": [
    "# Import Libraries\n",
    "import pandas as pd\n",
    "import numpy as np\n",
    "import requests\n",
    "import json\n",
    "import matplotlib.pyplot as plt"
   ]
  },
  {
   "cell_type": "code",
   "execution_count": 3,
   "id": "f93e52f5",
   "metadata": {},
   "outputs": [],
   "source": [
    "# Load the datasets\n",
    "akas_url = \"https://datasets.imdbws.com/title.akas.tsv.gz\"\n",
    "ratings_url = \"https://datasets.imdbws.com/title.ratings.tsv.gz\"\n",
    "basics_url = \"https://datasets.imdbws.com/title.basics.tsv.gz\""
   ]
  },
  {
   "cell_type": "code",
   "execution_count": 10,
   "id": "48afa101",
   "metadata": {},
   "outputs": [],
   "source": [
    "# Load AKAs dataset\n",
    "akas = pd.read_csv(akas_url, sep='\\t', low_memory=False, na_values='\\\\N')\n",
    "\n",
    "# Filter AKAs dataset to include only US movies\n",
    "us_movies_akas = akas[(akas['region'] == 'US') & (akas['types'] != 'alternative')]"
   ]
  },
  {
   "cell_type": "code",
   "execution_count": 11,
   "id": "509a4edc",
   "metadata": {},
   "outputs": [],
   "source": [
    "# Load Ratings dataset\n",
    "ratings = pd.read_csv(ratings_url, sep='\\t', low_memory=False, na_values='\\\\N')\n",
    "\n",
    "# Filter Basics dataset based on AKAs dataset to include only US movies\n",
    "basics = basics.merge(us_movies_akas[['titleId']], left_on='tconst', right_on='titleId', how='inner')"
   ]
  },
  {
   "cell_type": "code",
   "execution_count": 12,
   "id": "3dc490af",
   "metadata": {},
   "outputs": [],
   "source": [
    "# Load Basics dataset\n",
    "basics = pd.read_csv(basics_url, sep='\\t', low_memory=False, na_values='\\\\N')\n",
    "\n",
    "# Filter Basics dataset to include only full-length movies released between 2000 and 2021 in the US and exclude documentaries\n",
    "basics = basics[(basics['titleType'] == 'movie') &\n",
    "                (basics['startYear'].between(2000, 2021)) &\n",
    "                (~basics['genres'].str.contains('documentary', case=False, na=False))]\n",
    "\n",
    "# Filter Basics dataset based on AKAs dataset to include only US movies\n",
    "basics = basics.merge(us_movies_akas[['titleId']], left_on='tconst', right_on='titleId', how='inner')"
   ]
  },
  {
   "cell_type": "code",
   "execution_count": 13,
   "id": "9de6c83d",
   "metadata": {},
   "outputs": [
    {
     "name": "stdout",
     "output_type": "stream",
     "text": [
      "<class 'pandas.core.frame.DataFrame'>\n",
      "Int64Index: 105648 entries, 0 to 105647\n",
      "Data columns (total 10 columns):\n",
      " #   Column          Non-Null Count   Dtype  \n",
      "---  ------          --------------   -----  \n",
      " 0   tconst          105648 non-null  object \n",
      " 1   titleType       105648 non-null  object \n",
      " 2   primaryTitle    105648 non-null  object \n",
      " 3   originalTitle   105648 non-null  object \n",
      " 4   isAdult         105648 non-null  float64\n",
      " 5   startYear       105648 non-null  float64\n",
      " 6   endYear         0 non-null       float64\n",
      " 7   runtimeMinutes  91160 non-null   object \n",
      " 8   genres          102630 non-null  object \n",
      " 9   titleId         105648 non-null  object \n",
      "dtypes: float64(3), object(7)\n",
      "memory usage: 8.9+ MB\n",
      "None\n"
     ]
    }
   ],
   "source": [
    "# Check remaining movies and data types in Basics dataset\n",
    "print(basics.info())"
   ]
  },
  {
   "cell_type": "code",
   "execution_count": 14,
   "id": "32355446",
   "metadata": {},
   "outputs": [
    {
     "name": "stdout",
     "output_type": "stream",
     "text": [
      "<class 'pandas.core.frame.DataFrame'>\n",
      "Int64Index: 1429678 entries, 5 to 36516552\n",
      "Data columns (total 8 columns):\n",
      " #   Column           Non-Null Count    Dtype  \n",
      "---  ------           --------------    -----  \n",
      " 0   titleId          1429678 non-null  object \n",
      " 1   ordering         1429678 non-null  int64  \n",
      " 2   title            1429678 non-null  object \n",
      " 3   region           1429678 non-null  object \n",
      " 4   language         3851 non-null     object \n",
      " 5   types            959918 non-null   object \n",
      " 6   attributes       46946 non-null    object \n",
      " 7   isOriginalTitle  1428336 non-null  float64\n",
      "dtypes: float64(1), int64(1), object(6)\n",
      "memory usage: 98.2+ MB\n",
      "None\n"
     ]
    }
   ],
   "source": [
    "# Check remaining movies and data types in AKAs dataset\n",
    "print(us_movies_akas.info())"
   ]
  },
  {
   "cell_type": "code",
   "execution_count": 15,
   "id": "9db5d72a",
   "metadata": {},
   "outputs": [
    {
     "name": "stdout",
     "output_type": "stream",
     "text": [
      "<class 'pandas.core.frame.DataFrame'>\n",
      "RangeIndex: 1329143 entries, 0 to 1329142\n",
      "Data columns (total 3 columns):\n",
      " #   Column         Non-Null Count    Dtype  \n",
      "---  ------         --------------    -----  \n",
      " 0   tconst         1329143 non-null  object \n",
      " 1   averageRating  1329143 non-null  float64\n",
      " 2   numVotes       1329143 non-null  int64  \n",
      "dtypes: float64(1), int64(1), object(1)\n",
      "memory usage: 30.4+ MB\n",
      "None\n"
     ]
    }
   ],
   "source": [
    "# Check remaining movies and data types in Ratings dataset\n",
    "print(ratings.info())"
   ]
  },
  {
   "cell_type": "code",
   "execution_count": 16,
   "id": "9bc03c4c",
   "metadata": {},
   "outputs": [],
   "source": [
    "# Save filtered datasets as compressed CSV files\n",
    "basics.to_csv('Data/basics.csv.gz', compression='gzip', index=False)\n",
    "us_movies_akas.to_csv('Data/akas.csv.gz', compression='gzip', index=False)\n",
    "ratings.to_csv('Data/ratings.csv.gz', compression='gzip', index=False)"
   ]
  },
  {
   "cell_type": "markdown",
   "id": "3de2528e",
   "metadata": {},
   "source": [
    "# API Connection"
   ]
  },
  {
   "cell_type": "code",
   "execution_count": 17,
   "id": "2fc1058d",
   "metadata": {},
   "outputs": [],
   "source": [
    "from tqdm import tqdm"
   ]
  },
  {
   "cell_type": "code",
   "execution_count": 18,
   "id": "d76f7a71",
   "metadata": {},
   "outputs": [],
   "source": [
    "# Function to extract movie info from TMDB API\n",
    "def get_movie_info(movie_id, api_key):\n",
    "    url = f\"https://api.themoviedb.org/3/movie/{movie_id}?api_key={api_key}\"\n",
    "    response = requests.get(url)\n",
    "    movie_data = response.json()\n",
    "    return movie_data"
   ]
  },
  {
   "cell_type": "code",
   "execution_count": 19,
   "id": "68e8b358",
   "metadata": {},
   "outputs": [
    {
     "name": "stdout",
     "output_type": "stream",
     "text": [
      "The Avengers:\n",
      "{'adult': False, 'backdrop_path': '/9BBTo63ANSmhC4e6r62OJFuK2GL.jpg', 'belongs_to_collection': {'id': 86311, 'name': 'The Avengers Collection', 'poster_path': '/yFSIUVTCvgYrpalUktulvk3Gi5Y.jpg', 'backdrop_path': '/zuW6fOiusv4X9nnW3paHGfXcSll.jpg'}, 'budget': 220000000, 'genres': [{'id': 878, 'name': 'Science Fiction'}, {'id': 28, 'name': 'Action'}, {'id': 12, 'name': 'Adventure'}], 'homepage': 'https://www.marvel.com/movies/the-avengers', 'id': 24428, 'imdb_id': 'tt0848228', 'original_language': 'en', 'original_title': 'The Avengers', 'overview': 'When an unexpected enemy emerges and threatens global safety and security, Nick Fury, director of the international peacekeeping agency known as S.H.I.E.L.D., finds himself in need of a team to pull the world back from the brink of disaster. Spanning the globe, a daring recruitment effort begins!', 'popularity': 129.163, 'poster_path': '/RYMX2wcKCBAr24UyPD7xwmjaTn.jpg', 'production_companies': [{'id': 420, 'logo_path': '/hUzeosd33nzE5MCNsZxCGEKTXaQ.png', 'name': 'Marvel Studios', 'origin_country': 'US'}], 'production_countries': [{'iso_3166_1': 'US', 'name': 'United States of America'}], 'release_date': '2012-04-25', 'revenue': 1518815515, 'runtime': 143, 'spoken_languages': [{'english_name': 'English', 'iso_639_1': 'en', 'name': 'English'}, {'english_name': 'Hindi', 'iso_639_1': 'hi', 'name': 'हिन्दी'}, {'english_name': 'Russian', 'iso_639_1': 'ru', 'name': 'Pусский'}], 'status': 'Released', 'tagline': 'Some assembly required.', 'title': 'The Avengers', 'video': False, 'vote_average': 7.709, 'vote_count': 28829}\n",
      "\n",
      "\n",
      "The Notebook:\n",
      "{'adult': False, 'backdrop_path': '/qom1SZSENdmHFNZBXbtJAU0WTlC.jpg', 'belongs_to_collection': None, 'budget': 29000000, 'genres': [{'id': 10749, 'name': 'Romance'}, {'id': 18, 'name': 'Drama'}], 'homepage': 'http://www.newline.com/properties/notebookthe.html', 'id': 11036, 'imdb_id': 'tt0332280', 'original_language': 'en', 'original_title': 'The Notebook', 'overview': \"An epic love story centered around an older man who reads aloud to a woman with Alzheimer's. From a faded notebook, the old man's words bring to life the story about a couple who is separated by World War II, and is then passionately reunited, seven years later, after they have taken different paths.\", 'popularity': 58.756, 'poster_path': '/rNzQyW4f8B8cQeg7Dgj3n6eT5k9.jpg', 'production_companies': [{'id': 12, 'logo_path': '/5ThIuO93vsk47oexKTSdfKEr7EC.png', 'name': 'New Line Cinema', 'origin_country': 'US'}, {'id': 1565, 'logo_path': None, 'name': 'Avery Pix', 'origin_country': 'US'}, {'id': 2605, 'logo_path': None, 'name': 'Gran Via Productions', 'origin_country': 'US'}], 'production_countries': [{'iso_3166_1': 'US', 'name': 'United States of America'}], 'release_date': '2004-06-25', 'revenue': 115603229, 'runtime': 123, 'spoken_languages': [{'english_name': 'English', 'iso_639_1': 'en', 'name': 'English'}], 'status': 'Released', 'tagline': 'Behind every great love is a great story.', 'title': 'The Notebook', 'video': False, 'vote_average': 7.88, 'vote_count': 10415}\n"
     ]
    }
   ],
   "source": [
    "# Function to append data to a JSON file\n",
    "def append_to_json(data, filename):\n",
    "    with open(filename, 'a') as file:\n",
    "        json.dump(data, file)\n",
    "        file.write('\\n')\n",
    "\n",
    "api_key = \"6ae1796c8924400f82273b37dedcdd66\"\n",
    "\n",
    "avengers_info = get_movie_info(\"tt0848228\", api_key)\n",
    "notebook_info = get_movie_info(\"tt0332280\", api_key)\n",
    "\n",
    "print(\"The Avengers:\")\n",
    "print(avengers_info)\n",
    "print(\"\\n\")\n",
    "print(\"The Notebook:\")\n",
    "print(notebook_info)"
   ]
  },
  {
   "cell_type": "code",
   "execution_count": 20,
   "id": "58a32c87",
   "metadata": {},
   "outputs": [],
   "source": [
    "# Load the filtered basics dataset\n",
    "basics = pd.read_csv('Data/basics.csv.gz', compression='gzip')"
   ]
  },
  {
   "cell_type": "code",
   "execution_count": 21,
   "id": "e1798c6e",
   "metadata": {},
   "outputs": [
    {
     "name": "stderr",
     "output_type": "stream",
     "text": [
      "Year 2000: 100%|███████████████████████████| 2148/2148 [05:30<00:00,  6.50it/s]\n",
      "Year 2001: 100%|███████████████████████████| 2345/2345 [05:57<00:00,  6.56it/s]\n"
     ]
    }
   ],
   "source": [
    "# Extract financial data for movies starting in 2000 or 2001\n",
    "years = [2000, 2001]\n",
    "\n",
    "for year in years:\n",
    "    # Filter basics dataset for the specific year\n",
    "    movies_year = basics[basics['startYear'] == year]\n",
    "\n",
    "    # Create an empty list to store movie data\n",
    "    movie_data_list = []\n",
    "\n",
    "    # Loop through the movies and extract financial data\n",
    "    for index, movie in tqdm(movies_year.iterrows(), total=movies_year.shape[0], desc=f\"Year {year}\"):\n",
    "        movie_id = movie['tconst']\n",
    "        movie_info = get_movie_info(movie_id, api_key)\n",
    "        movie_data = {\n",
    "            'movie_id': movie_id,\n",
    "            'budget': movie_info.get('budget'),\n",
    "            'revenue': movie_info.get('revenue'),\n",
    "            'certification': movie_info.get('certification'),\n",
    "        }\n",
    "        movie_data_list.append(movie_data)"
   ]
  },
  {
   "cell_type": "code",
   "execution_count": 23,
   "id": "940003df",
   "metadata": {},
   "outputs": [],
   "source": [
    "# Save the movie data as a JSON file\n",
    "filename = f\"financial_data_{year}.json\"\n",
    "with open(filename, 'w') as file:\n",
    "    json.dump(movie_data_list, file)"
   ]
  },
  {
   "cell_type": "markdown",
   "id": "922e6099",
   "metadata": {},
   "source": [
    "## Financial Data"
   ]
  },
  {
   "cell_type": "code",
   "execution_count": 24,
   "id": "85d50694",
   "metadata": {},
   "outputs": [],
   "source": [
    "# Function to extract movie info from TMDB API\n",
    "def get_movie_info(movie_id, api_key):\n",
    "    url = f\"https://api.themoviedb.org/3/movie/{movie_id}?api_key={api_key}\"\n",
    "    response = requests.get(url)\n",
    "    movie_data = response.json()\n",
    "    return movie_data"
   ]
  },
  {
   "cell_type": "code",
   "execution_count": 25,
   "id": "e87ae015",
   "metadata": {},
   "outputs": [],
   "source": [
    "# Function to append data to a JSON file\n",
    "def append_to_json(data, filename):\n",
    "    with open(filename, 'a') as file:\n",
    "        json.dump(data, file)\n",
    "        file.write('\\n')"
   ]
  },
  {
   "cell_type": "code",
   "execution_count": 26,
   "id": "7360d768",
   "metadata": {},
   "outputs": [],
   "source": [
    "# API Key\n",
    "api_key = \"6ae1796c8924400f82273b37dedcdd66\""
   ]
  },
  {
   "cell_type": "code",
   "execution_count": 27,
   "id": "c0f7143f",
   "metadata": {},
   "outputs": [
    {
     "name": "stdout",
     "output_type": "stream",
     "text": [
      "The Avengers:\n",
      "{'adult': False, 'backdrop_path': '/9BBTo63ANSmhC4e6r62OJFuK2GL.jpg', 'belongs_to_collection': {'id': 86311, 'name': 'The Avengers Collection', 'poster_path': '/yFSIUVTCvgYrpalUktulvk3Gi5Y.jpg', 'backdrop_path': '/zuW6fOiusv4X9nnW3paHGfXcSll.jpg'}, 'budget': 220000000, 'genres': [{'id': 878, 'name': 'Science Fiction'}, {'id': 28, 'name': 'Action'}, {'id': 12, 'name': 'Adventure'}], 'homepage': 'https://www.marvel.com/movies/the-avengers', 'id': 24428, 'imdb_id': 'tt0848228', 'original_language': 'en', 'original_title': 'The Avengers', 'overview': 'When an unexpected enemy emerges and threatens global safety and security, Nick Fury, director of the international peacekeeping agency known as S.H.I.E.L.D., finds himself in need of a team to pull the world back from the brink of disaster. Spanning the globe, a daring recruitment effort begins!', 'popularity': 129.163, 'poster_path': '/RYMX2wcKCBAr24UyPD7xwmjaTn.jpg', 'production_companies': [{'id': 420, 'logo_path': '/hUzeosd33nzE5MCNsZxCGEKTXaQ.png', 'name': 'Marvel Studios', 'origin_country': 'US'}], 'production_countries': [{'iso_3166_1': 'US', 'name': 'United States of America'}], 'release_date': '2012-04-25', 'revenue': 1518815515, 'runtime': 143, 'spoken_languages': [{'english_name': 'English', 'iso_639_1': 'en', 'name': 'English'}, {'english_name': 'Hindi', 'iso_639_1': 'hi', 'name': 'हिन्दी'}, {'english_name': 'Russian', 'iso_639_1': 'ru', 'name': 'Pусский'}], 'status': 'Released', 'tagline': 'Some assembly required.', 'title': 'The Avengers', 'video': False, 'vote_average': 7.709, 'vote_count': 28829}\n",
      "\n",
      "\n",
      "The Notebook:\n",
      "{'adult': False, 'backdrop_path': '/qom1SZSENdmHFNZBXbtJAU0WTlC.jpg', 'belongs_to_collection': None, 'budget': 29000000, 'genres': [{'id': 10749, 'name': 'Romance'}, {'id': 18, 'name': 'Drama'}], 'homepage': 'http://www.newline.com/properties/notebookthe.html', 'id': 11036, 'imdb_id': 'tt0332280', 'original_language': 'en', 'original_title': 'The Notebook', 'overview': \"An epic love story centered around an older man who reads aloud to a woman with Alzheimer's. From a faded notebook, the old man's words bring to life the story about a couple who is separated by World War II, and is then passionately reunited, seven years later, after they have taken different paths.\", 'popularity': 58.756, 'poster_path': '/rNzQyW4f8B8cQeg7Dgj3n6eT5k9.jpg', 'production_companies': [{'id': 12, 'logo_path': '/5ThIuO93vsk47oexKTSdfKEr7EC.png', 'name': 'New Line Cinema', 'origin_country': 'US'}, {'id': 1565, 'logo_path': None, 'name': 'Avery Pix', 'origin_country': 'US'}, {'id': 2605, 'logo_path': None, 'name': 'Gran Via Productions', 'origin_country': 'US'}], 'production_countries': [{'iso_3166_1': 'US', 'name': 'United States of America'}], 'release_date': '2004-06-25', 'revenue': 115603229, 'runtime': 123, 'spoken_languages': [{'english_name': 'English', 'iso_639_1': 'en', 'name': 'English'}], 'status': 'Released', 'tagline': 'Behind every great love is a great story.', 'title': 'The Notebook', 'video': False, 'vote_average': 7.88, 'vote_count': 10415}\n"
     ]
    }
   ],
   "source": [
    "# Test API calls\n",
    "avengers_info = get_movie_info(\"tt0848228\", api_key)\n",
    "notebook_info = get_movie_info(\"tt0332280\", api_key)\n",
    "\n",
    "print(\"The Avengers:\")\n",
    "print(avengers_info)\n",
    "print(\"\\n\")\n",
    "print(\"The Notebook:\")\n",
    "print(notebook_info)"
   ]
  },
  {
   "cell_type": "code",
   "execution_count": 28,
   "id": "936daeac",
   "metadata": {},
   "outputs": [],
   "source": [
    "# Load the filtered basics dataset\n",
    "basics = pd.read_csv('Data/basics.csv.gz', compression='gzip')"
   ]
  },
  {
   "cell_type": "code",
   "execution_count": 29,
   "id": "05d4f955",
   "metadata": {},
   "outputs": [],
   "source": [
    "# Extract financial data for movies that meet the criteria in Part 1\n",
    "filtered_movies = basics[(basics['startYear'] >= 2000) & (basics['startYear'] <= 2001)]\n",
    "\n",
    "for year in [2000, 2001]:\n",
    "    movies_year = filtered_movies[filtered_movies['startYear'] == year]\n",
    "    movie_data_list = []\n",
    "\n",
    "    for _, movie in movies_year.iterrows():\n",
    "        movie_id = movie['tconst']\n",
    "        movie_info = get_movie_info(movie_id, api_key)\n",
    "        movie_data = {\n",
    "            'movie_id': movie_id,\n",
    "            'budget': movie_info.get('budget', 0),\n",
    "            'revenue': movie_info.get('revenue', 0),\n",
    "            'certification': movie_info.get('certification'),\n",
    "        }\n",
    "        movie_data_list.append(movie_data)\n",
    "\n",
    "    filename = f\"financial_data_{year}.json\"\n",
    "    with open(filename, 'w') as file:\n",
    "        json.dump(movie_data_list, file)\n",
    "\n",
    "    df = pd.DataFrame(movie_data_list)\n",
    "    csv_filename = f\"financial_data_{year}.csv.gz\"\n",
    "    df.to_csv(csv_filename, compression='gzip', index=False)"
   ]
  },
  {
   "cell_type": "markdown",
   "id": "7a99af9f",
   "metadata": {},
   "source": [
    "## Exploratory Data Analysis"
   ]
  },
  {
   "cell_type": "code",
   "execution_count": 46,
   "id": "bfe06b3c",
   "metadata": {},
   "outputs": [],
   "source": [
    "# Load the financial data for each year\n",
    "years = [2000, 2001]\n",
    "dfs = []\n",
    "\n",
    "for year in years:\n",
    "    csv_filename = f\"financial_data_{year}.csv.gz\"\n",
    "    df = pd.read_csv(csv_filename, compression='gzip')\n",
    "    dfs.append(df)"
   ]
  },
  {
   "cell_type": "code",
   "execution_count": 47,
   "id": "f513533e",
   "metadata": {},
   "outputs": [],
   "source": [
    "# Concatenate the data into one dataframe\n",
    "financial_data = pd.concat(dfs, ignore_index=True)"
   ]
  },
  {
   "cell_type": "code",
   "execution_count": 48,
   "id": "70d42421",
   "metadata": {},
   "outputs": [],
   "source": [
    "# Filter movies with valid financial information (non-zero budget or revenue)\n",
    "valid_financial_data = financial_data[(financial_data['budget'] > 0) | (financial_data['revenue'] > 0)]"
   ]
  },
  {
   "cell_type": "code",
   "execution_count": 49,
   "id": "0883b9fb",
   "metadata": {},
   "outputs": [],
   "source": [
    "# Count of movies with valid financial information\n",
    "valid_movies_count = valid_financial_data['certification'].value_counts().reset_index()"
   ]
  },
  {
   "cell_type": "code",
   "execution_count": 50,
   "id": "c2ca326a",
   "metadata": {},
   "outputs": [],
   "source": [
    "# Count of movies in each certification category\n",
    "certification_counts = valid_financial_data['certification'].value_counts()"
   ]
  },
  {
   "cell_type": "code",
   "execution_count": 51,
   "id": "ddd5750f",
   "metadata": {},
   "outputs": [],
   "source": [
    "# Average revenue per certification category\n",
    "average_revenue = valid_financial_data.groupby('certification')['revenue'].mean()"
   ]
  },
  {
   "cell_type": "code",
   "execution_count": 52,
   "id": "e984c26f",
   "metadata": {},
   "outputs": [],
   "source": [
    "# Average budget per certification category\n",
    "average_budget = valid_financial_data.groupby('certification')['budget'].mean()"
   ]
  },
  {
   "cell_type": "code",
   "execution_count": 56,
   "id": "e63bd292",
   "metadata": {},
   "outputs": [],
   "source": [
    "# Save the merged TMDB API data as a CSV file\n",
    "financial_data.to_csv('tmdb_results_combined.csv.gz', compression='gzip', index=False)"
   ]
  }
 ],
 "metadata": {
  "kernelspec": {
   "display_name": "Python 3 (ipykernel)",
   "language": "python",
   "name": "python3"
  },
  "language_info": {
   "codemirror_mode": {
    "name": "ipython",
    "version": 3
   },
   "file_extension": ".py",
   "mimetype": "text/x-python",
   "name": "python",
   "nbconvert_exporter": "python",
   "pygments_lexer": "ipython3",
   "version": "3.9.15"
  },
  "toc": {
   "base_numbering": 1,
   "nav_menu": {},
   "number_sections": true,
   "sideBar": true,
   "skip_h1_title": false,
   "title_cell": "Table of Contents",
   "title_sidebar": "Contents",
   "toc_cell": false,
   "toc_position": {},
   "toc_section_display": true,
   "toc_window_display": false
  }
 },
 "nbformat": 4,
 "nbformat_minor": 5
}
